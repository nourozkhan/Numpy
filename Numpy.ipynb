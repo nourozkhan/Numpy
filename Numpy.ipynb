{
  "nbformat": 4,
  "nbformat_minor": 0,
  "metadata": {
    "colab": {
      "provenance": [],
      "authorship_tag": "ABX9TyPnBjtVOQQS9SJ5hChB3Cx+",
      "include_colab_link": true
    },
    "kernelspec": {
      "name": "python3",
      "display_name": "Python 3"
    },
    "language_info": {
      "name": "python"
    }
  },
  "cells": [
    {
      "cell_type": "markdown",
      "metadata": {
        "id": "view-in-github",
        "colab_type": "text"
      },
      "source": [
        "<a href=\"https://colab.research.google.com/github/nourozkhan/Numpy/blob/main/Numpy.ipynb\" target=\"_parent\"><img src=\"https://colab.research.google.com/assets/colab-badge.svg\" alt=\"Open In Colab\"/></a>"
      ]
    },
    {
      "cell_type": "markdown",
      "source": [
        "**Numpy**\n",
        "\\\n",
        "Numpy stands for Numerical Python. Its is a Python Libraray used for working with array. Its is the fundamental package for scientific computing."
      ],
      "metadata": {
        "id": "n-l2qo8VZgj5"
      }
    },
    {
      "cell_type": "code",
      "execution_count": null,
      "metadata": {
        "colab": {
          "base_uri": "https://localhost:8080/"
        },
        "id": "-l5KDtNLZLVd",
        "outputId": "6ece4627-d096-418b-8235-68afcd11c9b6"
      },
      "outputs": [
        {
          "output_type": "stream",
          "name": "stdout",
          "text": [
            "[1 2 3 4]\n",
            "2\n",
            "1\n",
            "8\n",
            "int64\n"
          ]
        }
      ],
      "source": [
        "import numpy as np\n",
        "\n",
        "# To create one dimensional array\n",
        "a = np.array([1,2,3,4])\n",
        "print(a)\n",
        "print(a[1])\n",
        "print(a.ndim)\n",
        "print(a.itemsize)\n",
        "print(a.dtype)\n"
      ]
    },
    {
      "cell_type": "code",
      "source": [
        "d = np.array([5,6,7,8])\n",
        "\n",
        "#some statistics function\n",
        "print(d.max())\n",
        "print(d.min())\n",
        "print(d.sum())\n",
        "\n",
        "#arthmatic operations\n",
        "print(a+d)\n",
        "print(d-a)\n",
        "print(a*d)\n",
        "print(d/a)\n",
        "print(d%a)\n",
        "print(a.dot(d))"
      ],
      "metadata": {
        "colab": {
          "base_uri": "https://localhost:8080/"
        },
        "id": "TVqEs6e2p14E",
        "outputId": "c66c6d46-6f5e-48a3-e61f-1c90315131d4"
      },
      "execution_count": null,
      "outputs": [
        {
          "output_type": "stream",
          "name": "stdout",
          "text": [
            "8\n",
            "5\n",
            "26\n",
            "[ 6  8 10 12]\n",
            "[4 4 4 4]\n",
            "[ 5 12 21 32]\n",
            "[5.         3.         2.33333333 2.        ]\n",
            "[0 0 1 0]\n",
            "70\n"
          ]
        }
      ]
    },
    {
      "cell_type": "code",
      "source": [
        "# To create two dimensional array\n",
        "b = np.array([[1,2],[3,4],[5,6]], dtype=float)\n",
        "print(b)\n",
        "print(b[1])\n",
        "print(b.size)\n",
        "print(b.shape)\n",
        "print(b.reshape(2,3))\n",
        "print(b.ravel())"
      ],
      "metadata": {
        "colab": {
          "base_uri": "https://localhost:8080/"
        },
        "id": "a-3cjicgbo6T",
        "outputId": "405faaea-3ec1-461e-d623-0fc693ad8b19"
      },
      "execution_count": null,
      "outputs": [
        {
          "output_type": "stream",
          "name": "stdout",
          "text": [
            "[[1. 2.]\n",
            " [3. 4.]\n",
            " [5. 6.]]\n",
            "[3. 4.]\n",
            "6\n",
            "(3, 2)\n",
            "[[1. 2. 3.]\n",
            " [4. 5. 6.]]\n",
            "[1. 2. 3. 4. 5. 6.]\n"
          ]
        }
      ]
    },
    {
      "cell_type": "code",
      "source": [
        "c = np.arange(0,11)\n",
        "print(c)\n",
        "\n",
        "# for Odd numbers\n",
        "odd_numbers = np.arange(1,10,2)\n",
        "print(odd_numbers)\n",
        "# for Even numbers\n",
        "even_numbers = np.arange(2,11,2)\n",
        "print(even_numbers)\n",
        "# to generate table of three\n",
        "three_table = np.arange(3,36,3)\n",
        "print(three_table)\n",
        "# for square root\n",
        "print(np.sqrt(even_numbers))\n",
        "# for square\n",
        "print(even_numbers ** 2)"
      ],
      "metadata": {
        "colab": {
          "base_uri": "https://localhost:8080/"
        },
        "id": "denmFeHEbrZH",
        "outputId": "a344f8ac-80e2-454e-9a65-16c8064737cf"
      },
      "execution_count": null,
      "outputs": [
        {
          "output_type": "stream",
          "name": "stdout",
          "text": [
            "[ 0  1  2  3  4  5  6  7  8  9 10]\n",
            "[1 3 5 7 9]\n",
            "[ 2  4  6  8 10]\n",
            "[ 3  6  9 12 15 18 21 24 27 30 33]\n",
            "[1.41421356 2.         2.44948974 2.82842712 3.16227766]\n",
            "[  4  16  36  64 100]\n"
          ]
        }
      ]
    }
  ]
}